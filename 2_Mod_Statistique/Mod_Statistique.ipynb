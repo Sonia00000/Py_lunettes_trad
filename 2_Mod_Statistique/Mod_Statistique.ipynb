{
 "cells": [
  {
   "cell_type": "markdown",
   "id": "ae92e4f8",
   "metadata": {},
   "source": [
    "# PROJET : \n",
    "# RECONNAISSANCE VOCALE\n",
    "# SYSTEME DE TRADUCTION ADAPTE AUX LUNETTES CONNECTEES  \n",
    "  \n",
    "    \n",
    "      \n",
    "***"
   ]
  },
  {
   "cell_type": "markdown",
   "id": "d8934c57",
   "metadata": {},
   "source": [
    "   \n",
    "      \n",
    "   \n",
    "## Partie II : Modélisation - Itération 1  \n",
    "   \n",
    "   \n"
   ]
  },
  {
   "cell_type": "markdown",
   "id": "c3573e8d",
   "metadata": {},
   "source": [
    "Dans cette itération, nous avons réalisé notre première modélisation, faisant suite à l'étape de visualisation. \n",
    "\n",
    "L'hypothèse de base de cette itération est l'hypothèse suivante : \n",
    "\"H0: dans une phrase donnée, les mots à traduire en anglais et en français sont quasiment à la même place. En s'appuyant sur cette logique, une traduction mot à mot d'un ensemble de phrases est possible.\"\n",
    "\n",
    "Cette hypothèse naive, bien qu'intéressante, ne nous semble pas vraiment plausible.\n",
    "En effet, dans l'étape de visualisation, nous avons constaté que le nombre de mots et la structure des phrases sont très différents en français et en anglais.\n",
    "\n",
    "Nous allons toutefois essayer de trouver des solutions pour faire fonctionner au mieux une telle traduction et comparer les résultats obtenus avec le dictionnaire de référence fourni. "
   ]
  },
  {
   "cell_type": "code",
   "execution_count": 1,
   "id": "3cea7e39",
   "metadata": {},
   "outputs": [
    {
     "data": {
      "text/html": [
       "<div>\n",
       "<style scoped>\n",
       "    .dataframe tbody tr th:only-of-type {\n",
       "        vertical-align: middle;\n",
       "    }\n",
       "\n",
       "    .dataframe tbody tr th {\n",
       "        vertical-align: top;\n",
       "    }\n",
       "\n",
       "    .dataframe thead th {\n",
       "        text-align: right;\n",
       "    }\n",
       "</style>\n",
       "<table border=\"1\" class=\"dataframe\">\n",
       "  <thead>\n",
       "    <tr style=\"text-align: right;\">\n",
       "      <th></th>\n",
       "      <th>Français</th>\n",
       "      <th>English</th>\n",
       "    </tr>\n",
       "  </thead>\n",
       "  <tbody>\n",
       "    <tr>\n",
       "      <th>0</th>\n",
       "      <td>new jersey est parfois calme pendant l' automn...</td>\n",
       "      <td>new jersey is sometimes quiet during autumn , ...</td>\n",
       "    </tr>\n",
       "    <tr>\n",
       "      <th>1</th>\n",
       "      <td>les états-unis est généralement froid en juill...</td>\n",
       "      <td>the united states is usually chilly during jul...</td>\n",
       "    </tr>\n",
       "    <tr>\n",
       "      <th>2</th>\n",
       "      <td>california est généralement calme en mars , et...</td>\n",
       "      <td>california is usually quiet during march , and...</td>\n",
       "    </tr>\n",
       "    <tr>\n",
       "      <th>3</th>\n",
       "      <td>les états-unis est parfois légère en juin , et...</td>\n",
       "      <td>the united states is sometimes mild during jun...</td>\n",
       "    </tr>\n",
       "    <tr>\n",
       "      <th>4</th>\n",
       "      <td>votre moins aimé fruit est le raisin , mais mo...</td>\n",
       "      <td>your least liked fruit is the grape , but my l...</td>\n",
       "    </tr>\n",
       "  </tbody>\n",
       "</table>\n",
       "</div>"
      ],
      "text/plain": [
       "                                            Français  \\\n",
       "0  new jersey est parfois calme pendant l' automn...   \n",
       "1  les états-unis est généralement froid en juill...   \n",
       "2  california est généralement calme en mars , et...   \n",
       "3  les états-unis est parfois légère en juin , et...   \n",
       "4  votre moins aimé fruit est le raisin , mais mo...   \n",
       "\n",
       "                                             English  \n",
       "0  new jersey is sometimes quiet during autumn , ...  \n",
       "1  the united states is usually chilly during jul...  \n",
       "2  california is usually quiet during march , and...  \n",
       "3  the united states is sometimes mild during jun...  \n",
       "4  your least liked fruit is the grape , but my l...  "
      ]
     },
     "execution_count": 1,
     "metadata": {},
     "output_type": "execute_result"
    }
   ],
   "source": [
    "# Import des données\n",
    "import numpy as np\n",
    "import pandas as pd\n",
    "\n",
    "data = pd.read_csv(\"small_vocab_fr-eng.csv\", sep = ';')\n",
    "\n",
    "# Suppression des doublons \n",
    "data.drop_duplicates(inplace = True)\n",
    "data.reset_index(inplace = True, drop = True)\n",
    "\n",
    "data.head()"
   ]
  },
  {
   "cell_type": "markdown",
   "id": "369e167c",
   "metadata": {},
   "source": [
    "   \n",
    "### 1. Création d'un dictionnaire anglais - français   \n",
    "   \n",
    "   "
   ]
  },
  {
   "cell_type": "markdown",
   "id": "92e1359f",
   "metadata": {},
   "source": [
    "La première étape de modélisation consiste à réaliser un dictionnaire de correspondance entre un mot anglais et un mot français. \n",
    "Nous avons choisi ce sens de réalisation du dictionnaire car c'est celui qui nous sera utile pour notre projet de lunettes connectées \n",
    "(la transcription à l'écrit des phrases orales étant réalisée en langue anglaise). \n",
    "\n",
    "Pour réaliser ce dictionnaire, nous avons procédé ainsi: \n",
    "- création de la liste des mots en anglais dont nous cherchons la traduction; \n",
    "- pour chaque mot anglais, en fonction de sa place dans la phrase, création d'une fenêtre de possibilité de trois mots (autour de la place du mot anglais) dans la version française;\n",
    "- formalisation d'un tableau (array) de quatre colonnes fournissant, pour chaque mot anglais, les trois mots possibles en français;\n",
    "- tri du tableau par mot anglais afin d'affecter à chaque mot anglais unique toutes les possibilités de traduction en francais;\n",
    "- calcul de l'occurence d'apparition de chaque possibilité ;\n",
    "- selection de la plus forte occurence pour chaque mot unique ce qui nous permet d'établir la correspondance souhaitée entre un mot anglais et un mot français. "
   ]
  },
  {
   "cell_type": "code",
   "execution_count": 2,
   "id": "74ce457b",
   "metadata": {},
   "outputs": [],
   "source": [
    "# A partir du dataframe, on crée une liste de phrases (par ligne de tableau) en anglais et en français\n",
    "\n",
    "# Création de la liste de phrases en anglais\n",
    "liste_eng = []\n",
    "for i in range(len(data.index)):\n",
    "    text_eng = \"\"\n",
    "    for carac in data.English[i]:\n",
    "        if carac in \",.?\":\n",
    "            text_eng += \" \"\n",
    "        elif carac in \"'\":\n",
    "            text_eng += \" '\"\n",
    "        else:\n",
    "            text_eng += carac\n",
    "    liste_eng.append(text_eng)\n",
    "\n",
    "\n",
    "# Création de la liste de phrases en français\n",
    "liste_fr = []\n",
    "for i in range(len(data.index)):\n",
    "    text_fr = \"\"\n",
    "    for carac in data.Français[i]:\n",
    "        if carac in \",.?-\":\n",
    "            text_fr += \" \"\n",
    "        elif carac in \"'\":\n",
    "            text_fr += \"' \"\n",
    "        else:\n",
    "            text_fr += carac\n",
    "    liste_fr.append(text_fr)\n",
    "\n"
   ]
  },
  {
   "cell_type": "code",
   "execution_count": 3,
   "id": "d196c8b1",
   "metadata": {},
   "outputs": [],
   "source": [
    "# Création de la liste de mots en anglais\n",
    "liste_eng1 = []\n",
    "for i in range(len(liste_eng)):\n",
    "    for j in range(len(liste_eng[i].split())):\n",
    "        liste_eng1.append(liste_eng[i].split()[j])\n",
    "\n",
    "\n",
    "# Correction des éléments en forme contractée\n",
    "for index, value in enumerate(liste_eng1):\n",
    "    if value == \"didn\":\n",
    "        liste_eng1[index] = 'did'\n",
    "    elif value == \"isn\":\n",
    "        liste_eng1[index] = 'is'\n",
    "    elif value == \"aren\":\n",
    "        liste_eng1[index] = 'are'\n",
    "    elif value == \"'s\":\n",
    "        liste_eng1[index] = 'is'\n",
    "    elif value == \"'t\":\n",
    "        liste_eng1[index] = 'not'\n",
    "\n",
    "#liste_eng1"
   ]
  },
  {
   "cell_type": "code",
   "execution_count": 4,
   "id": "35d8c2dc",
   "metadata": {},
   "outputs": [],
   "source": [
    "# Création de la liste des 3 mots en français en fonction de la position du mot anglais à traduire : \n",
    "liste_fr1 = []\n",
    "for i in range(len(liste_eng)):\n",
    "    k = len(liste_fr[i].split()) - 1\n",
    "    l = len(liste_eng[i].split()) - 1\n",
    "    \n",
    "    # Création de la liste des mots par phrase anglaise\n",
    "    for j in range(len(liste_eng[i].split())):\n",
    "        \n",
    "        # Liste de mots pour le premier mot de la phrase anglaise\n",
    "        if j == 0:\n",
    "            liste_fr1.append([liste_fr[i].split()[0], liste_fr[i].split()[1], liste_fr[i].split()[2]])\n",
    "            \n",
    "        # Liste des mots pour le dernier mot de la phrase anglaise   \n",
    "        elif j == l: \n",
    "            liste_fr1.append([liste_fr[i].split()[-3], liste_fr[i].split()[-2], liste_fr[i].split()[-1]])\n",
    "            \n",
    "        # Liste des mots pour les mots centraux de la phrase anglaise\n",
    "        else:\n",
    "            \n",
    "            # Phrases anglaises et françaises avec le même nombre de mots\n",
    "            if k == l:\n",
    "                liste_fr1.append([liste_fr[i].split()[j - 1], liste_fr[i].split()[j], liste_fr[i].split()[j + 1]])\n",
    "                \n",
    "                \n",
    "            # Phrases anglaises avec plus de mots que les françaises\n",
    "            elif k < l:\n",
    "                if 1 <= j < k:\n",
    "                    liste_fr1.append([liste_fr[i].split()[j - 1], liste_fr[i].split()[j], liste_fr[i].split()[j + 1]])\n",
    "                else:\n",
    "                    liste_fr1.append([liste_fr[i].split()[-3], liste_fr[i].split()[-2], liste_fr[i].split()[-1]])\n",
    "                \n",
    "                \n",
    "            # Phrases françaises avec plus de mots que phrases anglaises\n",
    "            else:\n",
    "                liste_fr1.append([liste_fr[i].split()[j - 1], liste_fr[i].split()[j], liste_fr[i].split()[j + 1]])\n",
    "\n",
    "\n",
    "#liste_fr1"
   ]
  },
  {
   "cell_type": "code",
   "execution_count": 5,
   "id": "adfc74e8",
   "metadata": {},
   "outputs": [
    {
     "name": "stdout",
     "output_type": "stream",
     "text": [
      "Taille de la liste anglaise liste_eng1 : 1501574\n",
      "Taille de la liste française liste_fr1 : 1501574\n"
     ]
    }
   ],
   "source": [
    "# Vérification de la taille des listes obtenues\n",
    "print(\"Taille de la liste anglaise liste_eng1 :\",len(liste_eng1))\n",
    "print(\"Taille de la liste française liste_fr1 :\",len(liste_fr1))"
   ]
  },
  {
   "cell_type": "code",
   "execution_count": 6,
   "id": "b79891e9",
   "metadata": {},
   "outputs": [
    {
     "data": {
      "text/plain": [
       "(1501574, 4)"
      ]
     },
     "execution_count": 6,
     "metadata": {},
     "output_type": "execute_result"
    }
   ],
   "source": [
    "# Création d'un array reprenant les mots anglais et les trios de mots français\n",
    "arr_eng = np.array(liste_eng1).reshape(1501574,1)\n",
    "arr_fr = np.array(liste_fr1)\n",
    "arr = np.hstack((arr_eng, arr_fr))\n",
    "arr.shape"
   ]
  },
  {
   "cell_type": "code",
   "execution_count": 7,
   "id": "5f1075c0",
   "metadata": {},
   "outputs": [
    {
     "data": {
      "text/plain": [
       "(1501574, 4)"
      ]
     },
     "execution_count": 7,
     "metadata": {},
     "output_type": "execute_result"
    }
   ],
   "source": [
    "# Réorganisation de l'array en fonction des mots anglais\n",
    "arr1 = arr[arr[:, 0].argsort()]\n",
    "arr1.shape"
   ]
  },
  {
   "cell_type": "code",
   "execution_count": 8,
   "id": "98a4237a",
   "metadata": {},
   "outputs": [
    {
     "name": "stdout",
     "output_type": "stream",
     "text": [
      "Nombre de mots anglais uniques : 196\n"
     ]
    }
   ],
   "source": [
    "# Création d'un array des mots anglais uniques avec leurs occurences\n",
    "uniq_eng = np.asarray(list(zip(*np.unique(arr1[:,0], return_counts= True))))\n",
    "print(\"Nombre de mots anglais uniques :\", uniq_eng.shape[0])"
   ]
  },
  {
   "cell_type": "code",
   "execution_count": 9,
   "id": "d15fb218",
   "metadata": {},
   "outputs": [
    {
     "data": {
      "text/plain": [
       "{'a': ['une', 16.72],\n",
       " 'am': ['je', 33.33],\n",
       " 'and': ['et', 18.41],\n",
       " 'animal': ['préféré', 16.67],\n",
       " 'animals': ['les', 23.13],\n",
       " 'apple': ['la', 33.33],\n",
       " 'apples': ['les', 34.31],\n",
       " 'april': ['en', 33.25],\n",
       " 'are': ['sont', 23.95],\n",
       " 'august': ['août', 17.14],\n",
       " 'automobile': ['voiture', 26.85],\n",
       " 'autumn': ['automne', 26.55],\n",
       " 'banana': ['la', 33.33],\n",
       " 'bananas': ['les', 37.14],\n",
       " 'bear': ['ours', 33.33],\n",
       " 'bears': ['les', 32.29],\n",
       " 'beautiful': ['est', 19.39],\n",
       " 'been': ['été', 31.48],\n",
       " 'between': ['entre', 24.07],\n",
       " 'big': ['grande', 13.48],\n",
       " 'bird': ['oiseau', 33.33],\n",
       " 'birds': ['oiseaux', 31.25],\n",
       " 'black': ['voiture', 19.07],\n",
       " 'blue': ['voiture', 17.11],\n",
       " 'busy': ['occupé', 24.42],\n",
       " 'but': ['mais', 26.55],\n",
       " 'california': ['est', 31.37],\n",
       " 'car': ['voiture', 33.33],\n",
       " 'cat': ['chat', 33.33],\n",
       " 'cats': ['chats', 32.81],\n",
       " 'chilly': ['froid', 25.8],\n",
       " 'china': ['chine', 33.05],\n",
       " 'chinese': ['chinois', 18.59],\n",
       " 'cold': ['froid', 26.51],\n",
       " 'december': ['en', 33.2],\n",
       " 'did': ['pourquoi', 15.15],\n",
       " 'difficult': ['difficile', 27.95],\n",
       " 'dislike': [\"n'\", 25.6],\n",
       " 'disliked': ['aimait', 28.86],\n",
       " 'dislikes': ['elle', 16.86],\n",
       " 'do': ['vous', 28.57],\n",
       " 'does': ['comme', 26.39],\n",
       " 'dog': ['chien', 33.33],\n",
       " 'dogs': ['chiens', 31.25],\n",
       " 'drives': ['conduit', 31.22],\n",
       " 'driving': ['conduisait', 17.31],\n",
       " 'drove': ['a', 33.33],\n",
       " 'dry': ['sec', 24.04],\n",
       " 'during': ['en', 17.11],\n",
       " 'easy': ['facile', 26.79],\n",
       " 'eiffel': ['la', 33.33],\n",
       " 'elephant': ['éléphant', 33.33],\n",
       " 'elephants': ['éléphants', 33.33],\n",
       " 'english': [\"l'\", 17.52],\n",
       " 'fall': [\"l'\", 29.42],\n",
       " 'favorite': ['préféré', 27.34],\n",
       " 'feared': ['plus', 28.56],\n",
       " 'february': ['en', 32.2],\n",
       " 'field': ['de', 33.33],\n",
       " 'football': ['terrain', 32.73],\n",
       " 'france': ['france', 33.23],\n",
       " 'freezing': ['le', 16.78],\n",
       " 'french': ['français', 18.06],\n",
       " 'fruit': ['préféré', 16.63],\n",
       " 'fun': ['amusant', 33.21],\n",
       " 'go': ['aller', 26.82],\n",
       " 'going': ['va', 14.28],\n",
       " 'grape': ['le', 33.33],\n",
       " 'grapefruit': ['le', 28.9],\n",
       " 'grapes': ['les', 33.95],\n",
       " 'green': ['voiture', 16.67],\n",
       " 'grocery': [\"l'\", 33.33],\n",
       " 'has': ['été', 33.33],\n",
       " 'have': ['été', 27.78],\n",
       " 'he': ['il', 33.02],\n",
       " 'her': ['son', 25.77],\n",
       " 'his': ['son', 30.78],\n",
       " 'horse': ['cheval', 33.33],\n",
       " 'horses': ['chevaux', 32.29],\n",
       " 'hot': ['chaud', 24.28],\n",
       " 'how': ['comment', 33.33],\n",
       " 'i': ['aime', 25.99],\n",
       " 'in': ['en', 19.03],\n",
       " 'india': ['inde', 33.03],\n",
       " 'is': ['est', 27.87],\n",
       " 'it': ['il', 22.55],\n",
       " 'january': ['en', 33.19],\n",
       " 'jersey': ['jersey', 32.71],\n",
       " 'july': ['en', 33.24],\n",
       " 'june': ['en', 32.92],\n",
       " 'lake': ['lac', 33.33],\n",
       " 'last': ['en', 28.22],\n",
       " 'least': ['moins', 22.07],\n",
       " 'lemon': ['le', 33.33],\n",
       " 'lemons': ['les', 34.84],\n",
       " 'like': ['les', 26.47],\n",
       " 'liked': ['moins', 31.77],\n",
       " 'likes': ['aime', 33.33],\n",
       " 'lime': ['la', 33.33],\n",
       " 'limes': ['citrons', 25.0],\n",
       " 'lion': ['lion', 33.33],\n",
       " 'lions': ['lions', 33.33],\n",
       " 'little': ['petite', 17.29],\n",
       " 'loved': ['plus', 32.98],\n",
       " 'mango': ['la', 33.33],\n",
       " 'mangoes': ['les', 34.54],\n",
       " 'march': ['en', 27.2],\n",
       " 'may': ['en', 18.78],\n",
       " 'mice': ['souris', 31.25],\n",
       " 'might': ['aller', 29.28],\n",
       " 'mild': ['doux', 27.58],\n",
       " 'monkey': ['singe', 33.33],\n",
       " 'monkeys': ['singes', 33.33],\n",
       " 'most': ['le', 19.7],\n",
       " 'mouse': ['souris', 33.33],\n",
       " 'my': ['mon', 31.82],\n",
       " 'never': ['jamais', 27.62],\n",
       " 'new': ['new', 30.01],\n",
       " 'next': ['en', 21.67],\n",
       " 'nice': ['agréable', 26.86],\n",
       " 'not': ['pas', 22.5],\n",
       " 'november': ['en', 23.91],\n",
       " 'october': ['en', 31.71],\n",
       " 'old': ['vieille', 19.55],\n",
       " 'orange': [\"l'\", 33.33],\n",
       " 'oranges': ['les', 35.73],\n",
       " 'our': ['notre', 30.52],\n",
       " 'paris': ['paris', 33.15],\n",
       " 'peach': ['la', 33.33],\n",
       " 'peaches': ['les', 36.34],\n",
       " 'pear': ['la', 33.33],\n",
       " 'pears': ['les', 35.88],\n",
       " 'plan': ['de', 22.78],\n",
       " 'plans': ['de', 30.39],\n",
       " 'pleasant': ['agréable', 28.35],\n",
       " 'portuguese': ['portugais', 18.06],\n",
       " 'quiet': ['calme', 23.36],\n",
       " 'rabbit': ['lapin', 33.33],\n",
       " 'rabbits': ['lapins', 33.33],\n",
       " 'rainy': ['pluvieux', 25.38],\n",
       " 'red': ['rouge', 22.12],\n",
       " 'relaxing': ['relaxant', 28.82],\n",
       " 'rusty': ['voiture', 14.06],\n",
       " 'saw': ['a', 33.18],\n",
       " 'school': [\"l'\", 33.33],\n",
       " 'september': ['en', 29.48],\n",
       " 'shark': ['requin', 33.33],\n",
       " 'sharks': ['requins', 33.33],\n",
       " 'she': ['elle', 33.15],\n",
       " 'shiny': ['voiture', 13.48],\n",
       " 'snake': ['serpent', 33.33],\n",
       " 'snakes': ['serpents', 33.33],\n",
       " 'snowy': ['est', 18.48],\n",
       " 'sometimes': ['est', 31.72],\n",
       " 'spanish': ['espagnol', 18.48],\n",
       " 'spring': ['au', 33.29],\n",
       " 'states': ['unis', 32.95],\n",
       " 'store': [\"l'\", 33.33],\n",
       " 'strawberries': ['les', 37.21],\n",
       " 'strawberry': ['la', 33.33],\n",
       " 'summer': ['été', 27.35],\n",
       " 'that': ['cette', 13.56],\n",
       " 'the': ['est', 17.81],\n",
       " 'their': ['leur', 28.79],\n",
       " 'they': ['ils', 33.32],\n",
       " 'think': ['je', 25.0],\n",
       " 'thinks': ['pense', 33.33],\n",
       " 'this': ['ce', 22.22],\n",
       " 'to': ['en', 12.59],\n",
       " 'tower': ['eiffel', 33.33],\n",
       " 'translate': ['de', 33.33],\n",
       " 'translating': ['la', 29.33],\n",
       " 'truck': ['camion', 33.33],\n",
       " 'united': ['unis', 33.12],\n",
       " 'usually': ['est', 30.62],\n",
       " 'visit': ['de', 30.77],\n",
       " 'want': ['ils', 33.33],\n",
       " 'wanted': ['aller', 31.31],\n",
       " 'wants': ['veut', 33.33],\n",
       " 'warm': ['chaud', 27.9],\n",
       " 'was': ['était', 21.37],\n",
       " 'we': ['nous', 33.03],\n",
       " 'weather': ['le', 33.33],\n",
       " 'went': ['est', 22.22],\n",
       " 'were': ['étaient', 29.69],\n",
       " 'wet': ['humide', 27.25],\n",
       " 'when': ['quand', 33.33],\n",
       " 'where': ['est', 33.33],\n",
       " 'white': ['voiture', 17.7],\n",
       " 'why': ['pourquoi', 33.33],\n",
       " 'winter': ['hiver', 27.37],\n",
       " 'wonderful': ['merveilleux', 27.97],\n",
       " 'would': ['aller', 32.64],\n",
       " 'yellow': ['jaune', 22.02],\n",
       " 'you': ['vous', 33.14],\n",
       " 'your': ['votre', 31.87]}"
      ]
     },
     "execution_count": 9,
     "metadata": {},
     "output_type": "execute_result"
    }
   ],
   "source": [
    "# Création du dictionnaire de traduction\n",
    "\n",
    "# Dictionnaire de traduction anglais - français \n",
    "dico_trad = {} \n",
    "\n",
    "# Dictionnaire des possibles traductions suivant l'occurrence\n",
    "dico_occ_nbr = {}\n",
    "\n",
    "# Dictionnaire des possibles traductions suivant l'occurrence en pourcentage\n",
    "dico_occ_pctg = {}\n",
    "\n",
    "k1 = 0 \n",
    "for i in range(uniq_eng.shape[0]):\n",
    "    k2 = uniq_eng[i, 1].astype('int')\n",
    "    arr2 = arr1[k1 : k1 + k2, 1:4]\n",
    "    values, counts = np.unique(arr2, return_counts = True)\n",
    "    dico_trad.update({uniq_eng[i, 0] : values[np.argmax(counts)]})\n",
    "    dico_occ_nbr.update({uniq_eng[i, 0] : dict(zip(*np.unique(arr2, return_counts= True)))})\n",
    "    dico_count = dict(zip(*np.unique(arr2, return_counts= True)))\n",
    "    for key, value in dico_count.items():\n",
    "        dico_count[key] = round(value / (k2 * 3) * 100, 2)\n",
    "        dico_occ_pctg.update({uniq_eng[i, 0] : dico_count})\n",
    "    k1 += k2\n",
    "\n",
    "# Création du dictionnaire de traduction avec les différentes possibilités de traductions\n",
    "dico_occ = {}\n",
    "for i in dico_trad.keys():\n",
    "        dico_occ.update({i : list(dico_occ_nbr[i].keys())})\n",
    "\n",
    "# Création du dictionnaire de traduction en précisant le pourcentage d'occurrence du mot choisi\n",
    "dico_trad_pctg = {}\n",
    "for i in dico_trad.keys():\n",
    "    for j in dico_occ_pctg[i].keys():\n",
    "        if j == dico_trad[i]:\n",
    "            dico_trad_pctg.update({i : [dico_trad[i], dico_occ_pctg[i][j]]})\n",
    "\n",
    "dico_trad_pctg"
   ]
  },
  {
   "cell_type": "markdown",
   "id": "cd14f0c2",
   "metadata": {},
   "source": [
    "Dans l'étape de visualisation, nous avions calculé la présence de 196 mots unique en anglais, nous retrouvons ce nombre dans notre dictionnaire, ce qui nous assure une certaine cohérence. \n",
    "\n",
    "En parcourant visuellement la liste des 196 mots traduits, nous constatons plusieurs points : \n",
    "- les occurences d'apparition ne sont pas très élevées (jamais au-dessus de 50%);\n",
    "- certaines traductions sont manifestement erronées. \n",
    "\n",
    "En première conclusion, et sans même comparer avec le dictionnaire de référence, nous pouvons présager de l'invalidité de l'hypothèse de base. \n",
    "\n",
    "Dans la suite de l'étude, nous appelerons ce doctionnaire \"le 1er dictionnaire\". \n",
    "\n",
    "Nous allons toutefois procéder à la comparaison et tâcher de trouver des pistes d'amélioration."
   ]
  },
  {
   "cell_type": "markdown",
   "id": "4639eebf",
   "metadata": {},
   "source": [
    "   \n",
    "### 2. Etude du dictionnaire créé :  comparaison avec un dictionnaire de référence\n",
    "   \n",
    "   "
   ]
  },
  {
   "cell_type": "markdown",
   "id": "853d8934",
   "metadata": {},
   "source": [
    "Dans cette étape, nous construisons le dictionnaire de référence.\n",
    "\n",
    "Mais tout d'abord, nous souhaiterions commenter les données d'entrée. \n",
    "\n",
    "Le dictionnaire proposé comme référence est très riche (113 286 mots). \n",
    "Toutefois, nous constatons des erreurs plus ou moins importantes: \n",
    "- Le premier biais est de parfois traduire un mot par un terme du même champs lexical (ex: cat par félin);\n",
    "- Le deuxième de traduire un gérondif par un nom (ex: canoying par canoe);\n",
    "- De nombreux mots sont incompréhensibles (ex: livi-livi ou heiliger-heiliger), ces mots sont généralement identiquement traduits en français et en anglais, ce qui ne causera pas de problèmes pour notre comparaison mais fait douter de la valeur de ce dictionnaire; \n",
    "- De façon moins anecdoctique, certains mots sont traduits une fois par le mot en français (ex: bird par oiseau) et une autre fois par le mot en anglais (ex: bird par bird), ou bien une fois par un nom et une fois par un adjectif (religion - religion et religion - religieux), ce qui, par contre, pourrait être problématique pour notre comparaison. \n",
    "\n",
    "Dans le code ci-après, nous construisons non pas un dictionnaire un pour un, c'est-à-dire ne proposant qu'une traduction pour chaque mot, mais un dictionnaire un pour multiples (via l'utilisation d'une liste), ce qui permet d'obtenir plusieurs choix de traduction pour un même mot. Cette méthode nous permet de nous affranchir des biais des données d'entrée.  "
   ]
  },
  {
   "cell_type": "code",
   "execution_count": 10,
   "id": "63d11107",
   "metadata": {},
   "outputs": [
    {
     "name": "stdout",
     "output_type": "stream",
     "text": [
      "Ce dataset constituant le dictionnaire de référence contient les traductions françaises de 94679 mots anglais différents.\n",
      "Le dictionnaire créé dans la partie précédente et le dictionnaire de référence ont 174 mots en commun.\n",
      "Liste des mots qui n'apparaissent pas dans le dictionnaire de référence contenant 22 mots:\n",
      " ['a', 'am', 'been', 'chilly', 'disliked', 'dislikes', 'do', 'does', 'drives', 'go', 'has', 'he', 'i', 'in', 'is', 'it', 'least', 'my', 'snowy', 'thinks', 'to', 'we']\n"
     ]
    }
   ],
   "source": [
    "# Création du dictionnaire de référence à partir du 2ème dataset\n",
    "\n",
    "    # Import des données du dataset 2\n",
    "ds2 = pd.read_csv(\"en-fr.txt\", sep = \" \", names = [\"Anglais\", \"Français\"])\n",
    "ds2_ord = ds2.groupby(['Anglais']).agg(lambda x : list(x)).reset_index()\n",
    "\n",
    "    # Création du dictionnaire complet\n",
    "dico_cplt = {ds2_ord['Anglais'][i] : ds2_ord['Français'][i] for i in range(ds2_ord.shape[0])}\n",
    "\n",
    "    # Nombre de mots anglais différents dans ce dataset\n",
    "print(\"Ce dataset constituant le dictionnaire de référence contient les traductions françaises de\", len(dico_cplt),\n",
    "      \"mots anglais différents.\")\n",
    "\n",
    "    # Création du dictionnaire en reprenant les mots anglais en commun dans les 2 datasets\n",
    "dico_part = {}\n",
    "for i in dico_trad.keys():\n",
    "    if i in dico_cplt.keys():\n",
    "        dico_part.update({i : dico_cplt[i]})\n",
    "\n",
    "print(\"Le dictionnaire créé dans la partie précédente et le dictionnaire de référence ont\", len(dico_part),\n",
    "      \"mots en commun.\")\n",
    "#dico_part\n",
    "\n",
    "liste_nc = []\n",
    "for i in dico_trad.keys():\n",
    "    if i not in dico_part:\n",
    "        liste_nc.append(i)\n",
    "print(\"Liste des mots qui n'apparaissent pas dans le dictionnaire de référence contenant\", len(liste_nc), \"mots:\\n\",\n",
    "      liste_nc)"
   ]
  },
  {
   "cell_type": "markdown",
   "id": "0b7aae58",
   "metadata": {},
   "source": [
    "#### Analyse de la comparaison entre le dictionnaire dico_trad obtenu et le dictionnaire de référence "
   ]
  },
  {
   "cell_type": "code",
   "execution_count": 11,
   "id": "9980e098",
   "metadata": {},
   "outputs": [
    {
     "name": "stdout",
     "output_type": "stream",
     "text": [
      "Les mots français les plus fréquents choisis pour la traduction des mots anglais du 1er dictionnaire ont une occurrence comprise entre 13.48 % et 33.33 %.\n",
      "Les traductions proposées dans le 1er dictionnaire correspondent à celles proposées par le dictionnaire de référence pour 82 mots, soit dans 47.13 % des cas.\n",
      "\n",
      "Liste des mots mal traduits, de 92 mots :\n",
      " ['animal', 'animals', 'apple', 'apples', 'april', 'automobile', 'banana', 'bananas', 'bears', 'beautiful', 'black', 'blue', 'california', 'december', 'did', 'dislike', 'driving', 'drove', 'during', 'eiffel', 'english', 'fall', 'feared', 'february', 'field', 'football', 'freezing', 'fruit', 'going', 'grape', 'grapefruit', 'grapes', 'green', 'grocery', 'have', 'her', 'january', 'july', 'june', 'last', 'lemon', 'lemons', 'like', 'liked', 'lime', 'limes', 'loved', 'mango', 'mangoes', 'march', 'may', 'might', 'most', 'new', 'next', 'nice', 'november', 'october', 'orange', 'oranges', 'peach', 'peaches', 'pear', 'pears', 'plan', 'plans', 'rusty', 'saw', 'school', 'september', 'shiny', 'sometimes', 'spring', 'states', 'store', 'strawberries', 'strawberry', 'that', 'the', 'think', 'tower', 'translate', 'translating', 'usually', 'visit', 'want', 'wanted', 'weather', 'went', 'where', 'white', 'would']\n"
     ]
    }
   ],
   "source": [
    "# Comparaison de la traduction proposée dans le 1er dictionnaire et des traductions du dictionnaire de référence\n",
    "dico_com1 = {}\n",
    "liste_nt = []\n",
    "for i in dico_part.keys():\n",
    "    if dico_trad[i] in dico_part[i]:\n",
    "        dico_com1.update({i : [dico_trad[i], dico_trad_pctg[i][1]]})\n",
    "    else:\n",
    "        liste_nt.append(i)\n",
    "        \n",
    "# Analyse du pourcentage d'occurrence des mots choisis pour la traduction\n",
    "liste_pctg = [dico_com1[i][1] for i in dico_com1.keys()]\n",
    "print(\"Les mots français les plus fréquents choisis pour la traduction des mots anglais du 1er dictionnaire ont une \\\n",
    "occurrence comprise entre\", min(liste_pctg), \"% et\", max(liste_pctg), \"%.\")\n",
    "\n",
    "# Analyse du score du 1er dictionnaire\n",
    "print(\"Les traductions proposées dans le 1er dictionnaire correspondent à celles proposées par le dictionnaire de \\\n",
    "référence pour\", len(dico_com1), \"mots, soit dans\", round(len(dico_com1)/len(dico_part) * 100, 2), \"% des cas.\\n\")\n",
    "print(\"Liste des mots mal traduits, de\", len(liste_nt), \"mots :\\n\", liste_nt)\n"
   ]
  },
  {
   "cell_type": "markdown",
   "id": "cb1c45e3",
   "metadata": {},
   "source": [
    "De ces valeurs, nous établissons les constats suivants: \n",
    "- la plupart des mots du 1er dictionnaire sont bien présents dans le dictionnaire de référence mais certains en sont absents (22 mots);\n",
    "- notre score de performance est assez faible (moins 50%), ce qui confirme que nous allons sûrement rejeter l'hypothèse H0;\n",
    "\n",
    "Par la suite, nous allons pousser plus loin l'étude afin de trouver tout de même des pistes d'amélioration de ce score. "
   ]
  },
  {
   "cell_type": "code",
   "execution_count": 12,
   "id": "47980bf5",
   "metadata": {},
   "outputs": [
    {
     "name": "stdout",
     "output_type": "stream",
     "text": [
      "Les possibles traductions proposées dans le 1er dictionnaire trouvent une correspondance dans les traductions proposées dans le dictionnaire de référence pour 160 mots, soit dans 91.95 % des cas.\n",
      "\n",
      "Liste des mots pour lesquels aucune occurrence ne correspond à une traduction, de 14 mots :\n",
      " ['did', 'dislike', 'drove', 'feared', 'field', 'have', 'her', 'most', 'nice', 'plan', 'plans', 'saw', 'store', 'would']\n"
     ]
    }
   ],
   "source": [
    "# Comparaison entre les différentes possibilités de traductions du 1er dictionnaire et celles du dictionnaire de référence\n",
    "dico_lt = {}\n",
    "for i in dico_part.keys():\n",
    "    for j in range(len(dico_occ[i])):\n",
    "        if dico_occ[i][j] in dico_part[i]:\n",
    "            dico_lt.update({i : dico_occ[i]})\n",
    "            break\n",
    "            \n",
    "liste_lnt = []\n",
    "for i in dico_part.keys():\n",
    "    if i not in dico_lt.keys():\n",
    "        liste_lnt.append(i)\n",
    "\n",
    "print(\"Les possibles traductions proposées dans le 1er dictionnaire trouvent une correspondance dans les traductions \\\n",
    "proposées dans le dictionnaire de référence pour\", len(dico_lt), \"mots, soit dans\", \n",
    "      round(len(dico_lt)/len(dico_part) * 100, 2), \"% des cas.\\n\")\n",
    "print(\"Liste des mots pour lesquels aucune occurrence ne correspond à une traduction, de\", \n",
    "      len(liste_lnt), \"mots :\\n\", liste_lnt)"
   ]
  },
  {
   "cell_type": "markdown",
   "id": "0d8c23b3",
   "metadata": {},
   "source": [
    "De ces analyses, nous extrayons les observations suivantes: \n",
    "\n",
    "- dans la grande majorité des cas, la bonne traduction de chaque mot anglais est bien dans la fenêtre de 3 mots sélectionnée dans la version française; \n",
    "- seuls 14 mots se trouvent en-dehors de cette fenêtre de 3 mots. \n",
    "\n",
    "Nous n'avons pas, dans ce cas, jugé utile de modifier la fenêtre de traduction, considérant cette piste d'amélioration de nos performances comme négligeable. En effet, ces mots sont mal traduits pour d'autres raisons (conjuguaison de verbes, autres façons de construire une phrase en anglais et en francais). "
   ]
  },
  {
   "cell_type": "markdown",
   "id": "51d2514c",
   "metadata": {},
   "source": [
    "#### Analyse d'un second dictionnaire créé sans certains mots français trop communs"
   ]
  },
  {
   "cell_type": "markdown",
   "id": "2d0b78de",
   "metadata": {},
   "source": [
    "Dans la poursuite de l'objectif d'amélioration des performances, nous avons testé le modèle en retirant des mots usuels listés dans \"ban\" et retrouvés trop fréquemment comme traduction erronée des mots anglais. \n",
    "\n",
    "Le modèle de traduction faisant suite est identique à ce qui a déjà été présenté et réalisé.  "
   ]
  },
  {
   "cell_type": "code",
   "execution_count": 13,
   "id": "60d1089c",
   "metadata": {},
   "outputs": [
    {
     "name": "stdout",
     "output_type": "stream",
     "text": [
      "Taille de la liste anglaise liste_eng1 : 1501574\n",
      "Taille de la liste française liste_fr1_m : 1501574\n"
     ]
    }
   ],
   "source": [
    "# Création d'un nouveau dictionnaire basé sur le 1er dataset et ignorant certains mots français\n",
    "# Le code qui suit reprend le code de la première partie qui a été utilisé pour créer le 1er dictionnaire\n",
    "ban = ['le', 'la', 'les', 'une', 'est', 'en', \"n'\", \"l'\", 'de', 'ce']\n",
    "liste_fr1_m = []\n",
    "for i in range(len(liste_eng)):\n",
    "    k = len(liste_fr[i].split()) - 1\n",
    "    l = len(liste_eng[i].split()) - 1\n",
    "    \n",
    "    # Création de la liste des mots par phrase anglaise\n",
    "    for j in range(len(liste_eng[i].split())):\n",
    "        \n",
    "        # Liste de mots pour le premier mot de la phrase anglaise\n",
    "        if j == 0:\n",
    "            liste_fr1_m.append([liste_fr[i].split()[0], liste_fr[i].split()[1], liste_fr[i].split()[2]])\n",
    "            \n",
    "        # Liste des mots pour le dernier mot de la phrase anglaise   \n",
    "        elif j == l: \n",
    "            liste_fr1_m.append([liste_fr[i].split()[-3], liste_fr[i].split()[-2], liste_fr[i].split()[-1]])\n",
    "            \n",
    "        # Liste des mots pour les mots centraux de la phrase anglaise\n",
    "        else:\n",
    "            \n",
    "            # Phrases anglaises et françaises avec le même nombre de mots\n",
    "            if k == l:\n",
    "                liste_fr1_m.append([liste_fr[i].split()[j - 1], liste_fr[i].split()[j], liste_fr[i].split()[j + 1]])\n",
    "                \n",
    "                \n",
    "            # Phrases anglaises avec plus de mots que les françaises\n",
    "            elif k < l:\n",
    "                if 1 <= j < k:\n",
    "                    liste_fr1_m.append([liste_fr[i].split()[j - 1], liste_fr[i].split()[j], liste_fr[i].split()[j + 1]])\n",
    "                else:\n",
    "                    liste_fr1_m.append([liste_fr[i].split()[-3], liste_fr[i].split()[-2], liste_fr[i].split()[-1]])\n",
    "                \n",
    "                \n",
    "            # Phrases françaises avec plus de mots que phrases anglaises\n",
    "            else:\n",
    "                v = liste_fr[i].split()[j - 1]\n",
    "                w = liste_fr[i].split()[j + 1]\n",
    "                if (v and w not in ban) or (j == 1) or (j == l-1):\n",
    "                    liste_fr1_m.append([liste_fr[i].split()[j - 1], liste_fr[i].split()[j], liste_fr[i].split()[j + 1]])\n",
    "                elif v in ban and w not in ban:\n",
    "                    liste_fr1_m.append([liste_fr[i].split()[j - 2], liste_fr[i].split()[j], liste_fr[i].split()[j + 1]])\n",
    "                elif w in ban and v not in ban:\n",
    "                    liste_fr1_m.append([liste_fr[i].split()[j - 1], liste_fr[i].split()[j], liste_fr[i].split()[j + 2]])\n",
    "                elif v and w in ban:\n",
    "                    liste_fr1_m.append([liste_fr[i].split()[j - 2], liste_fr[i].split()[j], liste_fr[i].split()[j + 2]])\n",
    "\n",
    "print(\"Taille de la liste anglaise liste_eng1 :\",len(liste_eng1))\n",
    "print(\"Taille de la liste française liste_fr1_m :\",len(liste_fr1_m))"
   ]
  },
  {
   "cell_type": "code",
   "execution_count": 14,
   "id": "e777ad2d",
   "metadata": {},
   "outputs": [],
   "source": [
    "arr_eng = np.array(liste_eng1).reshape(1501574,1)\n",
    "arr_fr_m = np.array(liste_fr1_m)\n",
    "arr_m = np.hstack((arr_eng, arr_fr_m))\n",
    "\n",
    "arr1_m = arr_m[arr_m[:, 0].argsort()]\n"
   ]
  },
  {
   "cell_type": "code",
   "execution_count": 15,
   "id": "6e21a65c",
   "metadata": {},
   "outputs": [
    {
     "name": "stdout",
     "output_type": "stream",
     "text": [
      "Les mots les plus fréquents choisis pour la traduction des mots anglais dans le 2eme dictionnaire ont une occurrence comprise entre 14.27 % et 33.33 %.\n",
      "\n",
      "Les traductions proposées dans le 2eme dictionnaire correspondent à celles proposées par le dictionnaire de référence pour 120 mots, soit dans 68.97 % des cas.\n",
      "\n",
      "Liste des mots mal traduits, de 54 mots :\n",
      " ['animal', 'animals', 'automobile', 'bears', 'black', 'blue', 'california', 'did', 'dislike', 'driving', 'drove', 'during', 'eiffel', 'feared', 'field', 'football', 'fruit', 'going', 'grape', 'green', 'grocery', 'have', 'her', 'last', 'like', 'liked', 'limes', 'loved', 'might', 'most', 'new', 'next', 'nice', 'plan', 'plans', 'rusty', 'saw', 'school', 'shiny', 'spring', 'states', 'store', 'that', 'the', 'think', 'tower', 'translating', 'usually', 'want', 'wanted', 'went', 'where', 'white', 'would']\n"
     ]
    }
   ],
   "source": [
    "dico_trad_m = {}\n",
    "dico_occ_nbr_m = {}\n",
    "dico_occ_pctg_m = {}\n",
    "k1 = 0 \n",
    "for i in range(uniq_eng.shape[0]):\n",
    "    k2 = uniq_eng[i, 1].astype('int')\n",
    "    arr2_m = arr1_m[k1 : k1 + k2, 1:4]\n",
    "    values, counts = np.unique(arr2_m, return_counts = True)\n",
    "    dico_trad_m.update({uniq_eng[i, 0] : values[np.argmax(counts)]})\n",
    "    dico_occ_nbr_m.update({uniq_eng[i, 0] : dict(zip(*np.unique(arr2_m, return_counts= True)))})\n",
    "    dico_count_m = dict(zip(*np.unique(arr2_m, return_counts= True)))\n",
    "    for key, value in dico_count_m.items():\n",
    "        dico_count_m[key] = round(value / (k2 * 3) * 100, 2)\n",
    "        dico_occ_pctg_m.update({uniq_eng[i, 0] : dico_count_m})\n",
    "    k1 += k2\n",
    "\n",
    "dico_occ_m = {}\n",
    "for i in dico_trad_m.keys():\n",
    "        dico_occ_m.update({i : list(dico_occ_nbr_m[i].keys())})\n",
    "\n",
    "dico_trad_pctg_m = {}\n",
    "for i in dico_trad_m.keys():\n",
    "    for j in dico_occ_pctg_m[i].keys():\n",
    "        if j == dico_trad_m[i]:\n",
    "            dico_trad_pctg_m.update({i : [dico_trad_m[i], dico_occ_pctg_m[i][j]]})\n",
    "\n",
    "\n",
    "dico_com1_m = {}\n",
    "liste_nt_m = []\n",
    "for i in dico_part.keys():\n",
    "    if dico_trad_m[i] in dico_part[i]:\n",
    "        dico_com1_m.update({i : [dico_trad_m[i], dico_trad_pctg_m[i][1]]})\n",
    "    else:\n",
    "        liste_nt_m.append(i)\n",
    "\n",
    "# Analyse du pourcentage d'occurrence des mots choisis pour la traduction\n",
    "liste_pctg_m = [dico_com1_m[i][1] for i in dico_com1_m.keys()]\n",
    "print(\"Les mots les plus fréquents choisis pour la traduction des mots anglais dans le 2eme dictionnaire ont une \\\n",
    "occurrence comprise entre\", min(liste_pctg_m), \"% et\", max(liste_pctg_m), \"%.\\n\")\n",
    "\n",
    "# Analyse du score du 2eme dictionnaire\n",
    "print(\"Les traductions proposées dans le 2eme dictionnaire correspondent à celles proposées par le dictionnaire de \\\n",
    "référence pour\", len(dico_com1_m), \"mots, soit dans\", round(len(dico_com1_m)/len(dico_part) * 100, 2), \"% des cas.\\n\")\n",
    "print(\"Liste des mots mal traduits, de\", len(liste_nt_m), \"mots :\\n\", liste_nt_m)\n"
   ]
  },
  {
   "cell_type": "code",
   "execution_count": 16,
   "id": "f2ebe703",
   "metadata": {},
   "outputs": [
    {
     "name": "stdout",
     "output_type": "stream",
     "text": [
      "Les possibles traductions proposées dans le 2eme dictionnaire trouvent une correspondance dans les traductions proposées dans le dictionnaire de référence pour 160 mots, soit dans 91.95 % des cas.\n",
      "\n",
      "Liste des mots pour lesquels aucune occurrence ne correspond à une traduction, de 14 mots :\n",
      " ['did', 'dislike', 'drove', 'feared', 'field', 'have', 'her', 'most', 'nice', 'plan', 'plans', 'saw', 'store', 'would']\n"
     ]
    }
   ],
   "source": [
    "# Comparaison entre les différentes possibilités de traductions du 2e dictionnaire et celles du dictionnaire de référence\n",
    "dico_lt_m = {}\n",
    "for i in dico_part.keys():\n",
    "    for j in range(len(dico_occ_m[i])):\n",
    "        if dico_occ_m[i][j] in dico_part[i]:\n",
    "            dico_lt_m.update({i : dico_occ_m[i]})\n",
    "            break\n",
    "            \n",
    "liste_lnt_m = []\n",
    "for i in dico_part.keys():\n",
    "    if i not in dico_lt_m.keys():\n",
    "        liste_lnt_m.append(i)\n",
    "\n",
    "print(\"Les possibles traductions proposées dans le 2eme dictionnaire trouvent une correspondance dans les traductions \\\n",
    "proposées dans le dictionnaire de référence pour\", len(dico_lt_m), \"mots, soit dans\", \n",
    "      round(len(dico_lt_m)/len(dico_part) * 100, 2), \"% des cas.\\n\")\n",
    "print(\"Liste des mots pour lesquels aucune occurrence ne correspond à une traduction, de\", \n",
    "      len(liste_lnt_m), \"mots :\\n\", liste_lnt_m)\n"
   ]
  },
  {
   "cell_type": "markdown",
   "id": "e03b4fe2",
   "metadata": {},
   "source": [
    "En retirant les mots contenus dans la variable \"ban\", nous observons une augmentation du taux de bonnes réponses de 47% à 68%, ce qui valide cette piste d'amélioration. "
   ]
  },
  {
   "cell_type": "markdown",
   "id": "7f66a652",
   "metadata": {},
   "source": [
    "#### Analyse sur le seuil d'occurence"
   ]
  },
  {
   "cell_type": "markdown",
   "id": "179da08e",
   "metadata": {},
   "source": [
    "En dernier lieu, nous allons travailler sur la fixation d'un seuil d'occurence visant à mieux traduire les mots anglais.\n",
    "\n",
    "1) méthode 1: conserver uniquement les traductions dont l'occurence est au-delà d'un certain seuil et vérifier leur bonne traduction par rapport à l'ensemble des mots en commun (174 mots).\n",
    "\n",
    "2) méthode 2: conserver uniquement les traductions dont l'occurence est au-delà d'un certain seuil et vérifier leur bonne traduction par rapport à un nouveau dictionnaire de référence qui ne contient que les mots retenus (au-dessus du seuil précédemment mentionné).\n",
    "\n",
    "Nous allons appliquer ces deux méthodes au dictionnaire obtenu. "
   ]
  },
  {
   "cell_type": "code",
   "execution_count": 17,
   "id": "15a204a2",
   "metadata": {},
   "outputs": [],
   "source": [
    "# Seuil d'occurrence pris en compte dans la création du dictionnaire de traduction commune"
   ]
  },
  {
   "cell_type": "code",
   "execution_count": 18,
   "id": "5161a34a",
   "metadata": {},
   "outputs": [],
   "source": [
    "# Le seuil indiqué est en pourcentage\n",
    "seuil = 25"
   ]
  },
  {
   "cell_type": "code",
   "execution_count": 19,
   "id": "c7765890",
   "metadata": {},
   "outputs": [
    {
     "name": "stdout",
     "output_type": "stream",
     "text": [
      "Pour un seuil de 25 % d'occurrence minimum, les traductions proposées dans le 1er dictionnaire correspondent à celles de référence pour 62 mots, soit dans 35.63 % des cas.\n",
      "\n"
     ]
    }
   ],
   "source": [
    "# Dictionnaire 1\n",
    "dico_com1_s = {}\n",
    "for i in dico_com1.keys():\n",
    "    if dico_com1[i][1]>=seuil:\n",
    "        dico_com1_s.update({i : dico_com1[i][0]})\n",
    "\n",
    "print(\"Pour un seuil de\", seuil, \"% d'occurrence minimum, les traductions proposées dans le 1er dictionnaire \\\n",
    "correspondent à celles de référence pour\", len(dico_com1_s), \"mots, soit dans\", \n",
    "      round(len(dico_com1_s)/len(dico_part) * 100, 2), \"% des cas.\\n\")"
   ]
  },
  {
   "cell_type": "code",
   "execution_count": 20,
   "id": "ae6fc8f8",
   "metadata": {},
   "outputs": [
    {
     "name": "stdout",
     "output_type": "stream",
     "text": [
      "Les possibles traductions proposées dans le 1er dictionnaire trouvent une correspondance dans les traductions proposées dans le dictionnaire de référence pour 119 mots, soit dans 68.39 % des cas.\n",
      "\n",
      "Liste des mots pour lesquels aucune occurrence ne correspond à une traduction, de 55 mots :\n",
      " ['and', 'animal', 'animals', 'are', 'august', 'beautiful', 'between', 'big', 'black', 'blue', 'busy', 'chinese', 'did', 'dislike', 'driving', 'drove', 'dry', 'during', 'english', 'feared', 'field', 'freezing', 'french', 'fruit', 'going', 'green', 'have', 'her', 'hot', 'little', 'may', 'most', 'next', 'nice', 'not', 'november', 'old', 'plan', 'plans', 'portuguese', 'quiet', 'red', 'rusty', 'saw', 'shiny', 'spanish', 'store', 'that', 'the', 'this', 'was', 'went', 'white', 'would', 'yellow']\n"
     ]
    }
   ],
   "source": [
    "dico_lt_s = {}\n",
    "for i in dico_part.keys():\n",
    "    for j in range(len(dico_occ[i])):\n",
    "        if dico_occ[i][j] in dico_part[i]:\n",
    "            for k in dico_occ_pctg[i].keys():\n",
    "                if dico_occ_pctg[i][k] >= seuil:\n",
    "                    dico_lt_s.update({i : dico_occ_m[i]})\n",
    "                    break\n",
    "            \n",
    "liste_lnt_s = []\n",
    "for i in dico_part.keys():\n",
    "    if i not in dico_lt_s.keys():\n",
    "        liste_lnt_s.append(i)\n",
    "\n",
    "print(\"Les possibles traductions proposées dans le 1er dictionnaire trouvent une correspondance dans les traductions \\\n",
    "proposées dans le dictionnaire de référence pour\", len(dico_lt_s), \"mots, soit dans\", \n",
    "      round(len(dico_lt_s)/len(dico_part) * 100, 2), \"% des cas.\\n\")\n",
    "print(\"Liste des mots pour lesquels aucune occurrence ne correspond à une traduction, de\", \n",
    "      len(liste_lnt_s), \"mots :\\n\", liste_lnt_s)"
   ]
  },
  {
   "cell_type": "code",
   "execution_count": 21,
   "id": "cd5b074d",
   "metadata": {},
   "outputs": [
    {
     "name": "stdout",
     "output_type": "stream",
     "text": [
      "Pour un seuil de 25 % d'occurrence minimum, les traductions proposées dans le 1er dictionnaire correspondent à celles de référence pour 99 mots, soit dans 56.9 % des cas.\n",
      "\n"
     ]
    }
   ],
   "source": [
    "# Dictionnaire 2\n",
    "dico_com1_m_s = {}\n",
    "for i in dico_com1_m.keys():\n",
    "    if dico_com1_m[i][1]>=seuil:\n",
    "        dico_com1_m_s.update({i : dico_com1_m[i][0]})\n",
    "\n",
    "print(\"Pour un seuil de\", seuil, \"% d'occurrence minimum, les traductions proposées dans le 1er dictionnaire \\\n",
    "correspondent à celles de référence pour\", len(dico_com1_m_s), \"mots, soit dans\", \n",
    "      round(len(dico_com1_m_s)/len(dico_part) * 100, 2), \"% des cas.\\n\")"
   ]
  },
  {
   "cell_type": "code",
   "execution_count": 22,
   "id": "d18c9c6a",
   "metadata": {},
   "outputs": [
    {
     "name": "stdout",
     "output_type": "stream",
     "text": [
      "Les possibles traductions proposées dans le 2eme dictionnaire trouvent une correspondance dans les traductions proposées dans le dictionnaire de référence pour 123 mots, soit dans 70.69 % des cas.\n",
      "\n",
      "Liste des mots pour lesquels aucune occurrence ne correspond à une traduction, de 51 mots :\n",
      " ['and', 'animal', 'animals', 'are', 'august', 'beautiful', 'between', 'big', 'black', 'blue', 'chinese', 'did', 'dislike', 'driving', 'drove', 'dry', 'during', 'english', 'feared', 'field', 'freezing', 'french', 'fruit', 'going', 'green', 'have', 'her', 'little', 'most', 'next', 'nice', 'not', 'old', 'plan', 'plans', 'portuguese', 'quiet', 'red', 'rusty', 'saw', 'shiny', 'store', 'that', 'the', 'this', 'visit', 'was', 'went', 'white', 'would', 'yellow']\n"
     ]
    }
   ],
   "source": [
    "dico_lt_m_s = {}\n",
    "for i in dico_part.keys():\n",
    "    for j in range(len(dico_occ_m[i])):\n",
    "        if dico_occ_m[i][j] in dico_part[i]:\n",
    "            for k in dico_occ_pctg_m[i].keys():\n",
    "                if dico_occ_pctg_m[i][k] >= seuil:\n",
    "                    dico_lt_m_s.update({i : dico_occ_m[i]})\n",
    "                    break\n",
    "            \n",
    "liste_lnt_m_s = []\n",
    "for i in dico_part.keys():\n",
    "    if i not in dico_lt_m_s.keys():\n",
    "        liste_lnt_m_s.append(i)\n",
    "\n",
    "print(\"Les possibles traductions proposées dans le 2eme dictionnaire trouvent une correspondance dans les traductions \\\n",
    "proposées dans le dictionnaire de référence pour\", len(dico_lt_m_s), \"mots, soit dans\", \n",
    "      round(len(dico_lt_m_s)/len(dico_part) * 100, 2), \"% des cas.\\n\")\n",
    "print(\"Liste des mots pour lesquels aucune occurrence ne correspond à une traduction, de\", \n",
    "      len(liste_lnt_m_s), \"mots :\\n\", liste_lnt_m_s)"
   ]
  },
  {
   "cell_type": "markdown",
   "id": "913d4f72",
   "metadata": {},
   "source": [
    "Nous constatons que le seuil baisse ce qui est normal car on compare avec l'ensemble des mots en commun mais le résultat est plus précis. "
   ]
  },
  {
   "cell_type": "code",
   "execution_count": 23,
   "id": "f5a14d53",
   "metadata": {},
   "outputs": [],
   "source": [
    "# Seuil d'occurrence pris en compte dans la création du dictionnaire de référence"
   ]
  },
  {
   "cell_type": "code",
   "execution_count": 24,
   "id": "9275f634",
   "metadata": {},
   "outputs": [
    {
     "name": "stdout",
     "output_type": "stream",
     "text": [
      "Avec l'application d'un seuil minimum d'occurrence à 25 %, on obtient un dictionnaire de 145 mots traduits.\n",
      "Ce dictionnaire a 130 mots en commun avec le dictionnaire de référence.\n",
      "\n",
      "Les mots les plus fréquents choisis pour la traduction des mots anglais dans le 1er dictionnaire ont une occurrence comprise entre 25.38 % et 33.33 %.\n",
      "\n",
      "Les traductions proposées dans le 1er dictionnaire correspondent à celles proposées par le dictionnaire de référence pour 62 mots, soit dans 47.69 % des cas.\n",
      "\n",
      "Liste des mots mal traduits, de 68 mots :\n",
      " ['apple', 'apples', 'april', 'automobile', 'banana', 'bananas', 'bears', 'california', 'december', 'dislike', 'drove', 'eiffel', 'fall', 'feared', 'february', 'field', 'football', 'grape', 'grapefruit', 'grapes', 'grocery', 'have', 'her', 'january', 'july', 'june', 'last', 'lemon', 'lemons', 'like', 'liked', 'lime', 'limes', 'loved', 'mango', 'mangoes', 'march', 'might', 'new', 'nice', 'october', 'orange', 'oranges', 'peach', 'peaches', 'pear', 'pears', 'plans', 'saw', 'school', 'september', 'sometimes', 'spring', 'states', 'store', 'strawberries', 'strawberry', 'think', 'tower', 'translate', 'translating', 'usually', 'visit', 'want', 'wanted', 'weather', 'where', 'would']\n"
     ]
    }
   ],
   "source": [
    "# Dictionnaire 1\n",
    "dico_trad_s1 = {}\n",
    "for i in dico_trad.keys():\n",
    "    if dico_trad_pctg[i][1]>=seuil:\n",
    "        dico_trad_s1.update({i : dico_trad[i]})\n",
    "        \n",
    "dico_part_s1 = {}\n",
    "for i in dico_trad_s1.keys():\n",
    "    if i in dico_part.keys():\n",
    "        dico_part_s1.update({i : dico_cplt[i]})\n",
    "\n",
    "print(\"Avec l'application d'un seuil minimum d'occurrence à\", seuil, \"%, on obtient un dictionnaire de\",len(dico_trad_s1),\n",
    "      \"mots traduits.\")\n",
    "print(\"Ce dictionnaire a\", len(dico_part_s1), \"mots en commun avec le dictionnaire de référence.\\n\")\n",
    "\n",
    "dico_com1_s1 = {}\n",
    "liste_nt_s1 = []\n",
    "for i in dico_part_s1.keys():\n",
    "    if dico_trad_s1[i] in dico_part_s1[i]:\n",
    "        dico_com1_s1.update({i : [dico_trad_s1[i], dico_trad_pctg[i][1]]})\n",
    "    else:\n",
    "        liste_nt_s1.append(i)\n",
    "\n",
    "# Analyse du pourcentage d'occurrence des mots choisis pour la traduction\n",
    "liste_pctg_s1 = [dico_com1_s1[i][1] for i in dico_com1_s1.keys()]\n",
    "print(\"Les mots les plus fréquents choisis pour la traduction des mots anglais dans le 1er dictionnaire ont une \\\n",
    "occurrence comprise entre\", min(liste_pctg_s1), \"% et\", max(liste_pctg_s1), \"%.\\n\")\n",
    "\n",
    "# Analyse du score du 1er dictionnaire\n",
    "print(\"Les traductions proposées dans le 1er dictionnaire correspondent à celles proposées par le dictionnaire de \\\n",
    "référence pour\", len(dico_com1_s1), \"mots, soit dans\", round(len(dico_com1_s1)/len(dico_part_s1) * 100, 2),\"% des cas.\\n\")\n",
    "print(\"Liste des mots mal traduits, de\", len(liste_nt_s1), \"mots :\\n\", liste_nt_s1)\n"
   ]
  },
  {
   "cell_type": "code",
   "execution_count": 25,
   "id": "a1e985ac",
   "metadata": {},
   "outputs": [
    {
     "name": "stdout",
     "output_type": "stream",
     "text": [
      "Les possibles traductions proposées dans le 1er dictionnaire trouvent une correspondance dans les traductions proposées dans le dictionnaire de référence pour 119 mots, soit dans 91.54 % des cas.\n",
      "\n",
      "Liste des mots pour lesquels aucune occurrence ne correspond à une traduction, de 11 mots :\n",
      " ['dislike', 'drove', 'feared', 'field', 'have', 'her', 'nice', 'plans', 'saw', 'store', 'would']\n"
     ]
    }
   ],
   "source": [
    "dico_lt_s1 = {}\n",
    "for i in dico_part_s1.keys():\n",
    "    for j in range(len(dico_occ[i])):\n",
    "        if dico_occ[i][j] in dico_part_s1[i]:\n",
    "            for k in dico_occ_pctg[i].keys():\n",
    "                if dico_occ_pctg[i][k] >= seuil:\n",
    "                    dico_lt_s1.update({i : dico_occ[i]})\n",
    "                    break\n",
    "            \n",
    "liste_lnt_s1 = []\n",
    "for i in dico_part_s1.keys():\n",
    "    if i not in dico_lt_s1.keys():\n",
    "        liste_lnt_s1.append(i)\n",
    "\n",
    "print(\"Les possibles traductions proposées dans le 1er dictionnaire trouvent une correspondance dans les traductions \\\n",
    "proposées dans le dictionnaire de référence pour\", len(dico_lt_s1), \"mots, soit dans\", \n",
    "      round(len(dico_lt_s1)/len(dico_part_s1) * 100, 2), \"% des cas.\\n\")\n",
    "print(\"Liste des mots pour lesquels aucune occurrence ne correspond à une traduction, de\", \n",
    "      len(liste_lnt_s1), \"mots :\\n\", liste_lnt_s1)"
   ]
  },
  {
   "cell_type": "code",
   "execution_count": 26,
   "id": "2c51e0c4",
   "metadata": {},
   "outputs": [
    {
     "name": "stdout",
     "output_type": "stream",
     "text": [
      "Avec l'application d'un seuil minimum d'occurrence à 25 %, on obtient un dictionnaire de 148 mots traduits.\n",
      "Ce dictionnaire a 134 mots en commun avec le dictionnaire de référence.\n",
      "\n",
      "Les mots les plus fréquents choisis pour la traduction des mots anglais dans le 1er dictionnaire ont une occurrence comprise entre 25.2 % et 33.33 %.\n",
      "\n",
      "Les traductions proposées dans le 2eme dictionnaire correspondent à celles proposées par le dictionnaire de référence pour 99 mots, soit dans 73.88 % des cas.\n",
      "\n",
      "Liste des mots mal traduits, de 35 mots :\n",
      " ['automobile', 'bears', 'california', 'dislike', 'drove', 'eiffel', 'feared', 'field', 'football', 'grape', 'grocery', 'have', 'her', 'last', 'like', 'liked', 'limes', 'loved', 'might', 'new', 'nice', 'plans', 'saw', 'school', 'spring', 'states', 'store', 'think', 'tower', 'translating', 'usually', 'want', 'wanted', 'where', 'would']\n"
     ]
    }
   ],
   "source": [
    "# Dictionnaire 2\n",
    "dico_trad_s2 = {}\n",
    "for i in dico_trad_m.keys():\n",
    "    if dico_trad_pctg_m[i][1]>=seuil:\n",
    "        dico_trad_s2.update({i : dico_trad_m[i]})\n",
    "        \n",
    "dico_part_s2 = {}\n",
    "for i in dico_trad_s2.keys():\n",
    "    if i in dico_part.keys():\n",
    "        dico_part_s2.update({i : dico_cplt[i]})\n",
    "\n",
    "print(\"Avec l'application d'un seuil minimum d'occurrence à\", seuil, \"%, on obtient un dictionnaire de\",len(dico_trad_s2),\n",
    "      \"mots traduits.\")\n",
    "print(\"Ce dictionnaire a\", len(dico_part_s2), \"mots en commun avec le dictionnaire de référence.\\n\")\n",
    "\n",
    "dico_com1_s2 = {}\n",
    "liste_nt_s2 = []\n",
    "for i in dico_part_s2.keys():\n",
    "    if dico_trad_s2[i] in dico_part_s2[i]:\n",
    "        dico_com1_s2.update({i : [dico_trad_s2[i], dico_trad_pctg_m[i][1]]})\n",
    "    else:\n",
    "        liste_nt_s2.append(i)\n",
    "        \n",
    "# Analyse du pourcentage d'occurrence des mots choisis pour la traduction\n",
    "liste_pctg_s2 = [dico_com1_s2[i][1] for i in dico_com1_s2.keys()]\n",
    "print(\"Les mots les plus fréquents choisis pour la traduction des mots anglais dans le 1er dictionnaire ont une \\\n",
    "occurrence comprise entre\", min(liste_pctg_s2), \"% et\", max(liste_pctg_s2), \"%.\\n\")\n",
    "\n",
    "# Analyse du score du 2eme dictionnaire\n",
    "print(\"Les traductions proposées dans le 2eme dictionnaire correspondent à celles proposées par le dictionnaire de \\\n",
    "référence pour\", len(dico_com1_s2), \"mots, soit dans\", round(len(dico_com1_s2)/len(dico_part_s2) * 100, 2),\"% des cas.\\n\")\n",
    "print(\"Liste des mots mal traduits, de\", len(liste_nt_s2), \"mots :\\n\", liste_nt_s2)"
   ]
  },
  {
   "cell_type": "code",
   "execution_count": 27,
   "id": "92d3bff5",
   "metadata": {},
   "outputs": [
    {
     "name": "stdout",
     "output_type": "stream",
     "text": [
      "Les possibles traductions proposées dans le 2eme dictionnaire trouvent une correspondance dans les traductions proposées dans le dictionnaire de référence pour 123 mots, soit dans 91.79 % des cas.\n",
      "\n",
      "Liste des mots pour lesquels aucune occurrence ne correspond à une traduction, de 11 mots :\n",
      " ['dislike', 'drove', 'feared', 'field', 'have', 'her', 'nice', 'plans', 'saw', 'store', 'would']\n"
     ]
    }
   ],
   "source": [
    "dico_lt_m_s2 = {}\n",
    "for i in dico_part_s2.keys():\n",
    "    for j in range(len(dico_occ_m[i])):\n",
    "        if dico_occ_m[i][j] in dico_part_s2[i]:\n",
    "            for k in dico_occ_pctg_m[i].keys():\n",
    "                if dico_occ_pctg_m[i][k] >= seuil:\n",
    "                    dico_lt_m_s2.update({i : dico_occ_m[i]})\n",
    "                    break\n",
    "            \n",
    "liste_lnt_m_s2 = []\n",
    "for i in dico_part_s2.keys():\n",
    "    if i not in dico_lt_m_s2.keys():\n",
    "        liste_lnt_m_s2.append(i)\n",
    "\n",
    "print(\"Les possibles traductions proposées dans le 2eme dictionnaire trouvent une correspondance dans les traductions \\\n",
    "proposées dans le dictionnaire de référence pour\", len(dico_lt_m_s2), \"mots, soit dans\", \n",
    "      round(len(dico_lt_m_s2)/len(dico_part_s2) * 100, 2), \"% des cas.\\n\")\n",
    "print(\"Liste des mots pour lesquels aucune occurrence ne correspond à une traduction, de\", \n",
    "      len(liste_lnt_m_s2), \"mots :\\n\", liste_lnt_m_s2)"
   ]
  },
  {
   "cell_type": "markdown",
   "id": "6afc4186",
   "metadata": {},
   "source": [
    "Le score de la deuxième méthode est plus élevé, ce qui est logique car le dictionnaire de référence nouvellement établi est plus bas. "
   ]
  },
  {
   "cell_type": "markdown",
   "id": "e04592ee",
   "metadata": {},
   "source": [
    "Conclusions générales: \n",
    "\n",
    "Le taux de réussite est très moyen en dépit des pistes d'amélioration étudiées (pré-étude sur l'influence de la taille de la fenêtre, retrait de certains mots en français, travail sur le seuil d'occurence). \n",
    "\n",
    "Cette méthode est peu valeureuse en dépit du faible nombre de mots uniques, du grand nombre d'occurences de ceux_ci et du fait que les phrases françaises étaient parfois un peu bancales (structuellement plus proches de l'anglais que du francais), par exemple : \"votre moins aimé fruit est le raisin\". \n",
    "\n",
    "En conclusion, cette méthode est trop fastieuse, peu fiable et ne peut pas être utilisé à plus grande échelle et poursuivue. \n",
    "\n",
    "Nous rejetons H0. \n",
    "\n"
   ]
  },
  {
   "cell_type": "code",
   "execution_count": null,
   "id": "cd7d42dd",
   "metadata": {},
   "outputs": [],
   "source": []
  }
 ],
 "metadata": {
  "interpreter": {
   "hash": "dba8851dec06c95965c4b9acd8f4325acdb80444c005ae414d7a6bcd36173821"
  },
  "kernelspec": {
   "display_name": "Python 3",
   "language": "python",
   "name": "python3"
  },
  "language_info": {
   "codemirror_mode": {
    "name": "ipython",
    "version": 3
   },
   "file_extension": ".py",
   "mimetype": "text/x-python",
   "name": "python",
   "nbconvert_exporter": "python",
   "pygments_lexer": "ipython3",
   "version": "3.8.8"
  }
 },
 "nbformat": 4,
 "nbformat_minor": 5
}
